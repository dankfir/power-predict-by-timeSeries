{
 "cells": [
  {
   "cell_type": "code",
   "execution_count": 2,
   "metadata": {
    "collapsed": true
   },
   "outputs": [],
   "source": [
    "%matplotlib inline\n",
    "\n",
    "from __future__ import print_function\n",
    "import numpy as np\n",
    "from scipy import stats\n",
    "import pandas as pd\n",
    "import matplotlib.pyplot as plt"
   ]
  },
  {
   "cell_type": "code",
   "execution_count": 3,
   "metadata": {
    "collapsed": false,
    "scrolled": true
   },
   "outputs": [],
   "source": [
    "datas=pd.read_csv('C:\\\\Users\\\\HongYuChai\\\\Desktop\\\\datachy\\\\nsw.csv')\n",
    "index=pd.date_range('1/1/2015','7/19/2017',freq='30min')\n",
    "index1=index[1:]\n",
    "dta=pd.Series(datas['TOTALDEMAND'])\n",
    "dta.index=pd.Index(pd.date_range('1/1/2015','7/19/2017',freq='30min')[1:])"
   ]
  },
  {
   "cell_type": "code",
   "execution_count": 4,
   "metadata": {
    "collapsed": false
   },
   "outputs": [
    {
     "name": "stdout",
     "output_type": "stream",
     "text": [
      "time.struct_time(tm_year=2016, tm_mon=12, tm_mday=25, tm_hour=0, tm_min=0, tm_sec=0, tm_wday=6, tm_yday=360, tm_isdst=-1)\n"
     ]
    }
   ],
   "source": [
    "import time\n",
    "holi='2016/12/25 0:00'\n",
    "a=time.strptime(holi, '%Y/%m/%d %H:%M' )\n",
    "print(a)"
   ]
  },
  {
   "cell_type": "code",
   "execution_count": 5,
   "metadata": {
    "collapsed": false
   },
   "outputs": [
    {
     "name": "stdout",
     "output_type": "stream",
     "text": [
      "2016-12-25 00:00:00\n"
     ]
    }
   ],
   "source": [
    "import datetime\n",
    "d = datetime.datetime(* a[:6])\n",
    "print(d)"
   ]
  },
  {
   "cell_type": "code",
   "execution_count": 6,
   "metadata": {
    "collapsed": false
   },
   "outputs": [],
   "source": [
    "index2=pd.date_range('12/10/2016','12/17/2016',freq='30min')\n",
    "index3=pd.date_range('12/4/2015','12/11/2015',freq='30min')"
   ]
  },
  {
   "cell_type": "code",
   "execution_count": 7,
   "metadata": {
    "collapsed": false
   },
   "outputs": [],
   "source": [
    "index4=pd.date_range('12/25/2016','12/26/2016',freq='30min')"
   ]
  },
  {
   "cell_type": "code",
   "execution_count": 8,
   "metadata": {
    "collapsed": false,
    "scrolled": true
   },
   "outputs": [],
   "source": [
    "B=0.5\n",
    "rs=[]\n",
    "for i in range(0,48):#遍历一天的每一时刻\n",
    "    A1=B*(1-B)**5*dta[index2[i]]+B*(1-B)**4*dta[index2[i+48]]+B*(1-B)**3*dta[index2[i+48*2]]+B*(1-B)**2*dta[index2[i+48*3]]+B*(1-B)*dta[index2[i+48*4]]+B*dta[index2[i+48*5]]\n",
    "    A2=B*(1-B)**5*dta[index3[i]]+B*(1-B)**4*dta[index3[i+48]]+B*(1-B)**3*dta[index3[i+48*2]]+B*(1-B)**2*dta[index3[i+48*3]]+B*(1-B)*dta[index3[i+48*4]]+B*dta[index3[i+48*5]]\n",
    "    Pre=(A1/A2)*dta[index4[i]]\n",
    "    rs.append(Pre)\n"
   ]
  },
  {
   "cell_type": "code",
   "execution_count": 9,
   "metadata": {
    "collapsed": false,
    "scrolled": true
   },
   "outputs": [
    {
     "data": {
      "text/plain": [
       "2016-12-25 00:00:00    6692.739970\n",
       "2016-12-25 00:30:00    6481.845022\n",
       "2016-12-25 01:00:00    6261.847658\n",
       "2016-12-25 01:30:00    5964.490810\n",
       "2016-12-25 02:00:00    5801.697564\n",
       "2016-12-25 02:30:00    5660.453057\n",
       "2016-12-25 03:00:00    5573.777485\n",
       "2016-12-25 03:30:00    5509.056044\n",
       "2016-12-25 04:00:00    5499.656603\n",
       "2016-12-25 04:30:00    5532.473228\n",
       "2016-12-25 05:00:00    5521.202927\n",
       "2016-12-25 05:30:00    5620.494845\n",
       "2016-12-25 06:00:00    5773.643368\n",
       "2016-12-25 06:30:00    6051.026783\n",
       "2016-12-25 07:00:00    6301.308227\n",
       "2016-12-25 07:30:00    6557.006326\n",
       "2016-12-25 08:00:00    6765.884098\n",
       "2016-12-25 08:30:00    6978.593935\n",
       "2016-12-25 09:00:00    7086.903730\n",
       "2016-12-25 09:30:00    7210.716817\n",
       "2016-12-25 10:00:00    7290.469375\n",
       "2016-12-25 10:30:00    7377.806654\n",
       "2016-12-25 11:00:00    7408.104835\n",
       "2016-12-25 11:30:00    7260.308536\n",
       "2016-12-25 12:00:00    7188.994409\n",
       "2016-12-25 12:30:00    7048.286935\n",
       "2016-12-25 13:00:00    6966.060972\n",
       "2016-12-25 13:30:00    6911.668732\n",
       "2016-12-25 14:00:00    6971.576343\n",
       "2016-12-25 14:30:00    7013.976121\n",
       "2016-12-25 15:00:00    7053.565177\n",
       "2016-12-25 15:30:00    7075.202893\n",
       "2016-12-25 16:00:00    7124.050889\n",
       "2016-12-25 16:30:00    7152.426660\n",
       "2016-12-25 17:00:00    7260.941128\n",
       "2016-12-25 17:30:00    7286.161154\n",
       "2016-12-25 18:00:00    7298.795310\n",
       "2016-12-25 18:30:00    7237.417063\n",
       "2016-12-25 19:00:00    7138.969847\n",
       "2016-12-25 19:30:00    7143.630646\n",
       "2016-12-25 20:00:00    7256.222907\n",
       "2016-12-25 20:30:00    7328.430899\n",
       "2016-12-25 21:00:00    7159.693089\n",
       "2016-12-25 21:30:00    7082.610780\n",
       "2016-12-25 22:00:00    6932.332132\n",
       "2016-12-25 22:30:00    6870.545183\n",
       "2016-12-25 23:00:00    6690.308831\n",
       "2016-12-25 23:30:00    6537.552626\n",
       "Freq: 30T, Name: predict, dtype: float64"
      ]
     },
     "execution_count": 9,
     "metadata": {},
     "output_type": "execute_result"
    }
   ],
   "source": [
    "predict=pd.DataFrame({'predict':rs})\n",
    "pred=pd.Series(predict['predict'])\n",
    "pred.index=pd.Index(index4[0:48])\n",
    "pred"
   ]
  },
  {
   "cell_type": "code",
   "execution_count": 10,
   "metadata": {
    "collapsed": true
   },
   "outputs": [],
   "source": [
    "pred.to_csv('prd.csv')"
   ]
  },
  {
   "cell_type": "code",
   "execution_count": 11,
   "metadata": {
    "collapsed": false,
    "scrolled": true
   },
   "outputs": [],
   "source": [
    "dta[index4[0:47]].to_csv('sor.csv')"
   ]
  },
  {
   "cell_type": "code",
   "execution_count": 12,
   "metadata": {
    "collapsed": false
   },
   "outputs": [
    {
     "data": {
      "text/plain": [
       "0.022784027327468176"
      ]
     },
     "execution_count": 12,
     "metadata": {},
     "output_type": "execute_result"
    }
   ],
   "source": [
    "mis=0\n",
    "for i in range(0,48) :\n",
    "        mis+=abs((dta[index4[i]]-pred[index4[i]])/dta[index4[i]])\n",
    "mis=mis/48\n",
    "mis"
   ]
  },
  {
   "cell_type": "code",
   "execution_count": 13,
   "metadata": {
    "collapsed": false
   },
   "outputs": [
    {
     "data": {
      "image/png": "[encoded data removed]",
      "text/plain": [
       "<matplotlib.figure.Figure at 0xc28bfd0>"
      ]
     },
     "metadata": {},
     "output_type": "display_data"
    }
   ],
   "source": [
    "plt.plot(pred, 'r--', dta[index4[0:47]], 'b--')\n",
    "plt.show()"
   ]
  },
  {
   "cell_type": "code",
   "execution_count": null,
   "metadata": {
    "collapsed": true
   },
   "outputs": [],
   "source": []
  }
 ],
 "metadata": {
  "kernelspec": {
   "display_name": "Python 2",
   "language": "python",
   "name": "python2"
  },
  "language_info": {
   "codemirror_mode": {
    "name": "ipython",
    "version": 2
   },
   "file_extension": ".py",
   "mimetype": "text/x-python",
   "name": "python",
   "nbconvert_exporter": "python",
   "pygments_lexer": "ipython2",
   "version": "2.7.13"
  }
 },
 "nbformat": 4,
 "nbformat_minor": 2
}
